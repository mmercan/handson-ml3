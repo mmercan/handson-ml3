{
 "cells": [
  {
   "cell_type": "code",
   "execution_count": null,
   "id": "1a63a5a8",
   "metadata": {
    "vscode": {
     "languageId": "plaintext"
    }
   },
   "outputs": [],
   "source": [
    "from sklearn.datasets import load_iris\n",
    "from sklearn.pipeline import make_pipeline\n",
    "from sklearn.preprocessing import StandardScaler\n",
    "from sklearn.svm import LinearSVC, SVC\n",
    "\n",
    "iris = load_iris(as_frame=True)\n",
    "X = iris.data[['petal length (cm)', 'petal width (cm)']].values\n",
    "y = (iris.target ==2)\n",
    "svm_clf = make_pipeline(StandardScaler(), LinearSVC(C=1, random_state=42))\n",
    "svm_clf.fit(X, y)\n",
    "\n",
    "x_new = [[5.5, 1.7], [5.0, 1.5], [4.5, 1.0]]\n",
    "svm_clf.predict(x_new)"
   ]
  }
 ],
 "metadata": {
  "language_info": {
   "name": "python"
  }
 },
 "nbformat": 4,
 "nbformat_minor": 5
}
