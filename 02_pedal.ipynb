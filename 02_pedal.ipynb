{
 "cells": [
  {
   "cell_type": "markdown",
   "id": "be885784",
   "metadata": {},
   "source": [
    "test pedal"
   ]
  },
  {
   "cell_type": "code",
   "execution_count": null,
   "id": "05a6a642",
   "metadata": {
    "vscode": {
     "languageId": "plaintext"
    }
   },
   "outputs": [],
   "source": [
    "from sklewarn.linear_model import LogisticRegression"
   ]
  }
 ],
 "metadata": {
  "language_info": {
   "name": "python"
  }
 },
 "nbformat": 4,
 "nbformat_minor": 5
}
