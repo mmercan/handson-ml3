{
 "cells": [
  {
   "cell_type": "markdown",
   "id": "ae0f2d47",
   "metadata": {},
   "source": [
    "Pedal"
   ]
  }
 ],
 "metadata": {
  "language_info": {
   "name": "python"
  }
 },
 "nbformat": 4,
 "nbformat_minor": 5
}
