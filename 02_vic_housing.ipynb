{
 "cells": [
  {
   "cell_type": "markdown",
   "id": "1bfa0175",
   "metadata": {},
   "source": [
    "#Load "
   ]
  },
  {
   "cell_type": "code",
   "execution_count": null,
   "id": "bcf221eb",
   "metadata": {
    "vscode": {
     "languageId": "plaintext"
    }
   },
   "outputs": [],
   "source": []
  }
 ],
 "metadata": {
  "language_info": {
   "name": "python"
  }
 },
 "nbformat": 4,
 "nbformat_minor": 5
}
